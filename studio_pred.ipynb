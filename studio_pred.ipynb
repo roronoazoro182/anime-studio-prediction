{
  "nbformat": 4,
  "nbformat_minor": 0,
  "metadata": {
    "colab": {
      "name": "SM2_finalproj.ipynb",
      "provenance": [],
      "collapsed_sections": [],
      "authorship_tag": "ABX9TyONSj6CiCBEaWO0QtNgbrGS",
      "include_colab_link": true
    },
    "kernelspec": {
      "name": "python3",
      "display_name": "Python 3"
    },
    "accelerator": "GPU"
  },
  "cells": [
    {
      "cell_type": "markdown",
      "metadata": {
        "id": "view-in-github",
        "colab_type": "text"
      },
      "source": [
        "<a href=\"https://colab.research.google.com/github/roronoazoro182/anime-studio-prediction/blob/main/studio_pred.ipynb\" target=\"_parent\"><img src=\"https://colab.research.google.com/assets/colab-badge.svg\" alt=\"Open In Colab\"/></a>"
      ]
    },
    {
      "cell_type": "markdown",
      "metadata": {
        "id": "4r0C4NWDTMyq"
      },
      "source": [
        "**Classifying images according to the animation studios that produced them**"
      ]
    },
    {
      "cell_type": "markdown",
      "metadata": {
        "id": "DWjzJ5bVT73P"
      },
      "source": [
        "ANIME STUDIOS LIST:\n",
        "1. MADHOUSE\n",
        "2. KYOANI\n",
        "3. JC STAFF\n",
        "4. TOEI\n",
        "5. STUDIO BONES\n",
        "6. SUNRISE\n",
        "7. STUDIO PIERROT\n",
        "8. BRAIN'S BASE\n",
        "9. PRODUCTION I.G\n",
        "10. A1 PICTURES\n",
        "\n",
        "\n",
        "\n",
        "\n",
        "\n",
        "\n"
      ]
    },
    {
      "cell_type": "code",
      "metadata": {
        "id": "WJCv6rzmgWb0"
      },
      "source": [
        "import pandas as pd\n",
        "import numpy as np\n",
        "import matplotlib.pyplot as plt\n",
        "from sklearn.model_selection import train_test_split\n",
        "from sklearn.decomposition import PCA\n",
        "from keras.models import Sequential\n",
        "from keras.layers import Dense\n",
        "from skimage.color import rgb2gray\n",
        "from skimage.transform import resize,rescale\n",
        "from keras.utils import to_categorical\n",
        "from tensorflow.keras.preprocessing.image import ImageDataGenerator\n",
        "from keras.callbacks import ModelCheckpoint,EarlyStopping"
      ],
      "execution_count": null,
      "outputs": []
    },
    {
      "cell_type": "code",
      "metadata": {
        "id": "0td0so4Wgauq",
        "colab": {
          "base_uri": "https://localhost:8080/"
        },
        "outputId": "4bd74601-ea8d-4523-f53d-0d2870fc9121"
      },
      "source": [
        "from google.colab import drive\n",
        "drive.mount('/content/drive')#,force_remount=True)"
      ],
      "execution_count": null,
      "outputs": [
        {
          "output_type": "stream",
          "text": [
            "Mounted at /content/drive\n"
          ],
          "name": "stdout"
        }
      ]
    },
    {
      "cell_type": "markdown",
      "metadata": {
        "id": "nzblpeVCJ9C0"
      },
      "source": [
        "***Train data***"
      ]
    },
    {
      "cell_type": "code",
      "metadata": {
        "id": "Z6JB1CJoZX8G",
        "colab": {
          "base_uri": "https://localhost:8080/",
          "height": 504
        },
        "outputId": "4c20fb95-532b-424b-9279-26e80ee497f1"
      },
      "source": [
        "fig = plt.figure(figsize=(8,6))\n",
        "plan_df = {}\n",
        "studio = ['feel','toei','studio deen','madhouse']\n",
        "count = 0\n",
        "labels = []\n",
        "for i in studio:\n",
        "  for j in range(1,8):\n",
        "    path = '/content/drive/My Drive/anime/train/'+i+'/p'+str(j)+'.png'\n",
        "    img = plt.imread(path)  # reading image into variable named img\n",
        "    img_bw = rgb2gray(img)  #converting the rgb image to grayscale\n",
        "    plan_df[count] = img_bw  #storing the grayscale image in a dictionary\n",
        "    print(img_bw.shape)\n",
        "    labels.append(i) \n",
        "    count+=1"
      ],
      "execution_count": null,
      "outputs": [
        {
          "output_type": "stream",
          "text": [
            "(486, 508)\n",
            "(1080, 1920)\n",
            "(811, 888)\n",
            "(538, 649)\n",
            "(308, 282)\n",
            "(296, 247)\n",
            "(269, 214)\n",
            "(275, 404)\n",
            "(66, 77)\n",
            "(453, 527)\n",
            "(280, 329)\n",
            "(125, 165)\n",
            "(126, 137)\n",
            "(138, 172)\n",
            "(242, 293)\n",
            "(405, 412)\n",
            "(221, 312)\n",
            "(618, 728)\n",
            "(380, 410)\n",
            "(331, 500)\n",
            "(527, 486)\n",
            "(395, 342)\n",
            "(204, 178)\n",
            "(254, 201)\n",
            "(322, 219)\n",
            "(266, 229)\n",
            "(390, 470)\n",
            "(260, 214)\n"
          ],
          "name": "stdout"
        },
        {
          "output_type": "display_data",
          "data": {
            "text/plain": [
              "<Figure size 576x432 with 0 Axes>"
            ]
          },
          "metadata": {
            "tags": []
          }
        }
      ]
    },
    {
      "cell_type": "code",
      "metadata": {
        "id": "PofbBuZoeukE"
      },
      "source": [
        "plan_df"
      ],
      "execution_count": null,
      "outputs": []
    },
    {
      "cell_type": "code",
      "metadata": {
        "id": "P-MMm5RJherp",
        "colab": {
          "base_uri": "https://localhost:8080/",
          "height": 286
        },
        "outputId": "1bef51d8-40c0-4abd-c926-8a4fe9f3b456"
      },
      "source": [
        "plt.imshow(plan_df[19],cmap='gray')"
      ],
      "execution_count": null,
      "outputs": [
        {
          "output_type": "execute_result",
          "data": {
            "text/plain": [
              "<matplotlib.image.AxesImage at 0x7f537fd06cf8>"
            ]
          },
          "metadata": {
            "tags": []
          },
          "execution_count": 7
        },
        {
          "output_type": "display_data",
          "data": {
            "image/png": "[encoded data removed]",
            "text/plain": [
              "<Figure size 432x288 with 1 Axes>"
            ]
          },
          "metadata": {
            "tags": [],
            "needs_background": "light"
          }
        }
      ]
    },
    {
      "cell_type": "code",
      "metadata": {
        "id": "kxsIcrSQku7E",
        "colab": {
          "base_uri": "https://localhost:8080/",
          "height": 34
        },
        "outputId": "43d25543-7bc9-42fe-97d3-022ec3b4010a"
      },
      "source": [
        "plan_df[1].shape"
      ],
      "execution_count": null,
      "outputs": [
        {
          "output_type": "execute_result",
          "data": {
            "text/plain": [
              "(1080, 1920)"
            ]
          },
          "metadata": {
            "tags": []
          },
          "execution_count": 10
        }
      ]
    },
    {
      "cell_type": "code",
      "metadata": {
        "id": "JciATgvv3v9k",
        "colab": {
          "base_uri": "https://localhost:8080/",
          "height": 353
        },
        "outputId": "a90902b6-a655-4adc-881c-7cbd39430a00"
      },
      "source": [
        "labels"
      ],
      "execution_count": null,
      "outputs": [
        {
          "output_type": "execute_result",
          "data": {
            "text/plain": [
              "['feel',\n",
              " 'feel',\n",
              " 'feel',\n",
              " 'feel',\n",
              " 'A1',\n",
              " 'A1',\n",
              " 'A1',\n",
              " 'A1',\n",
              " 'studio deen',\n",
              " 'studio deen',\n",
              " 'studio deen',\n",
              " 'studio deen',\n",
              " 'toei',\n",
              " 'toei',\n",
              " 'toei',\n",
              " 'toei',\n",
              " 'madhouse',\n",
              " 'madhouse',\n",
              " 'madhouse',\n",
              " 'madhouse']"
            ]
          },
          "metadata": {
            "tags": []
          },
          "execution_count": 12
        }
      ]
    },
    {
      "cell_type": "code",
      "metadata": {
        "id": "KwIO9vWSlSuM"
      },
      "source": [
        "x = []\n",
        "y = []\n",
        "for i in range(1,5):\n",
        "  x.append(plan_df[i].shape[0])\n",
        "  y.append(plan_df[i].shape[1])\n",
        "   "
      ],
      "execution_count": null,
      "outputs": []
    },
    {
      "cell_type": "code",
      "metadata": {
        "id": "iUVOtvyJl2mz",
        "colab": {
          "base_uri": "https://localhost:8080/"
        },
        "outputId": "d753976d-0d44-45d0-ca16-3af9cfc4d27d"
      },
      "source": [
        "print(np.mean(x),np.mean(y))"
      ],
      "execution_count": null,
      "outputs": [
        {
          "output_type": "stream",
          "text": [
            "1080.0 1920.0\n"
          ],
          "name": "stdout"
        }
      ]
    },
    {
      "cell_type": "code",
      "metadata": {
        "id": "kIfp6VKZk6ID",
        "colab": {
          "base_uri": "https://localhost:8080/",
          "height": 554
        },
        "outputId": "5c4d26be-63a0-4c8f-c196-6ab432d09b52"
      },
      "source": [
        "df = pd.DataFrame()\n",
        "for i in range(16):\n",
        "  size = resize(plan_df[i],(64,64)) # resizing all the images to 130x100 \n",
        "  print(size.shape)\n",
        "  size = size.flatten() # converting the image from 2d to 1d\n",
        "  df[i] = size\n",
        "  print(size.shape)"
      ],
      "execution_count": null,
      "outputs": [
        {
          "output_type": "stream",
          "text": [
            "(64, 64)\n",
            "(4096,)\n",
            "(64, 64)\n",
            "(4096,)\n",
            "(64, 64)\n",
            "(4096,)\n",
            "(64, 64)\n",
            "(4096,)\n",
            "(64, 64)\n",
            "(4096,)\n",
            "(64, 64)\n",
            "(4096,)\n",
            "(64, 64)\n",
            "(4096,)\n",
            "(64, 64)\n",
            "(4096,)\n",
            "(64, 64)\n",
            "(4096,)\n",
            "(64, 64)\n",
            "(4096,)\n",
            "(64, 64)\n",
            "(4096,)\n",
            "(64, 64)\n",
            "(4096,)\n",
            "(64, 64)\n",
            "(4096,)\n",
            "(64, 64)\n",
            "(4096,)\n",
            "(64, 64)\n",
            "(4096,)\n",
            "(64, 64)\n",
            "(4096,)\n"
          ],
          "name": "stdout"
        }
      ]
    },
    {
      "cell_type": "code",
      "metadata": {
        "id": "LtA4YzSkmjQb",
        "colab": {
          "base_uri": "https://localhost:8080/",
          "height": 34
        },
        "outputId": "7583716f-3c2c-4e01-9998-c43a62485f56"
      },
      "source": [
        "df.shape"
      ],
      "execution_count": null,
      "outputs": [
        {
          "output_type": "execute_result",
          "data": {
            "text/plain": [
              "(4096, 16)"
            ]
          },
          "metadata": {
            "tags": []
          },
          "execution_count": 13
        }
      ]
    },
    {
      "cell_type": "code",
      "metadata": {
        "id": "Tw347iXnnxO7",
        "colab": {
          "base_uri": "https://localhost:8080/",
          "height": 195
        },
        "outputId": "db3deeb0-a7eb-4410-b92a-473eda884e56"
      },
      "source": [
        "df.head()"
      ],
      "execution_count": null,
      "outputs": [
        {
          "output_type": "execute_result",
          "data": {
            "text/html": [
              "<div>\n",
              "<style scoped>\n",
              "    .dataframe tbody tr th:only-of-type {\n",
              "        vertical-align: middle;\n",
              "    }\n",
              "\n",
              "    .dataframe tbody tr th {\n",
              "        vertical-align: top;\n",
              "    }\n",
              "\n",
              "    .dataframe thead th {\n",
              "        text-align: right;\n",
              "    }\n",
              "</style>\n",
              "<table border=\"1\" class=\"dataframe\">\n",
              "  <thead>\n",
              "    <tr style=\"text-align: right;\">\n",
              "      <th></th>\n",
              "      <th>0</th>\n",
              "      <th>1</th>\n",
              "      <th>2</th>\n",
              "      <th>3</th>\n",
              "      <th>4</th>\n",
              "      <th>5</th>\n",
              "      <th>6</th>\n",
              "      <th>7</th>\n",
              "      <th>8</th>\n",
              "      <th>9</th>\n",
              "      <th>10</th>\n",
              "      <th>11</th>\n",
              "      <th>12</th>\n",
              "      <th>13</th>\n",
              "      <th>14</th>\n",
              "      <th>15</th>\n",
              "    </tr>\n",
              "  </thead>\n",
              "  <tbody>\n",
              "    <tr>\n",
              "      <th>0</th>\n",
              "      <td>0.589944</td>\n",
              "      <td>0.729403</td>\n",
              "      <td>0.770631</td>\n",
              "      <td>0.648892</td>\n",
              "      <td>0.482612</td>\n",
              "      <td>0.728257</td>\n",
              "      <td>0.845288</td>\n",
              "      <td>1.0</td>\n",
              "      <td>0.395473</td>\n",
              "      <td>0.668781</td>\n",
              "      <td>0.170797</td>\n",
              "      <td>0.950828</td>\n",
              "      <td>0.533960</td>\n",
              "      <td>0.0</td>\n",
              "      <td>0.975200</td>\n",
              "      <td>0.902051</td>\n",
              "    </tr>\n",
              "    <tr>\n",
              "      <th>1</th>\n",
              "      <td>0.591749</td>\n",
              "      <td>0.715019</td>\n",
              "      <td>0.770375</td>\n",
              "      <td>0.654153</td>\n",
              "      <td>0.480969</td>\n",
              "      <td>0.723970</td>\n",
              "      <td>0.844551</td>\n",
              "      <td>1.0</td>\n",
              "      <td>0.519017</td>\n",
              "      <td>0.670850</td>\n",
              "      <td>0.628667</td>\n",
              "      <td>0.925841</td>\n",
              "      <td>0.473806</td>\n",
              "      <td>0.0</td>\n",
              "      <td>0.939357</td>\n",
              "      <td>0.927639</td>\n",
              "    </tr>\n",
              "    <tr>\n",
              "      <th>2</th>\n",
              "      <td>0.592384</td>\n",
              "      <td>0.688791</td>\n",
              "      <td>0.753510</td>\n",
              "      <td>0.661979</td>\n",
              "      <td>0.483032</td>\n",
              "      <td>0.702417</td>\n",
              "      <td>0.843926</td>\n",
              "      <td>1.0</td>\n",
              "      <td>0.391071</td>\n",
              "      <td>0.671369</td>\n",
              "      <td>0.845965</td>\n",
              "      <td>0.984112</td>\n",
              "      <td>0.357084</td>\n",
              "      <td>0.0</td>\n",
              "      <td>0.747945</td>\n",
              "      <td>0.995060</td>\n",
              "    </tr>\n",
              "    <tr>\n",
              "      <th>3</th>\n",
              "      <td>0.591577</td>\n",
              "      <td>0.625229</td>\n",
              "      <td>0.685603</td>\n",
              "      <td>0.672239</td>\n",
              "      <td>0.609663</td>\n",
              "      <td>0.684112</td>\n",
              "      <td>0.843058</td>\n",
              "      <td>1.0</td>\n",
              "      <td>0.356299</td>\n",
              "      <td>0.671912</td>\n",
              "      <td>0.879953</td>\n",
              "      <td>0.925834</td>\n",
              "      <td>0.233031</td>\n",
              "      <td>0.0</td>\n",
              "      <td>0.806040</td>\n",
              "      <td>0.999734</td>\n",
              "    </tr>\n",
              "    <tr>\n",
              "      <th>4</th>\n",
              "      <td>0.591833</td>\n",
              "      <td>0.538230</td>\n",
              "      <td>0.670447</td>\n",
              "      <td>0.683321</td>\n",
              "      <td>0.631156</td>\n",
              "      <td>0.668374</td>\n",
              "      <td>0.842999</td>\n",
              "      <td>1.0</td>\n",
              "      <td>0.393013</td>\n",
              "      <td>0.668548</td>\n",
              "      <td>0.966092</td>\n",
              "      <td>0.951916</td>\n",
              "      <td>0.183556</td>\n",
              "      <td>0.0</td>\n",
              "      <td>0.807246</td>\n",
              "      <td>0.966600</td>\n",
              "    </tr>\n",
              "  </tbody>\n",
              "</table>\n",
              "</div>"
            ],
            "text/plain": [
              "         0         1         2         3   ...        12   13        14        15\n",
              "0  0.589944  0.729403  0.770631  0.648892  ...  0.533960  0.0  0.975200  0.902051\n",
              "1  0.591749  0.715019  0.770375  0.654153  ...  0.473806  0.0  0.939357  0.927639\n",
              "2  0.592384  0.688791  0.753510  0.661979  ...  0.357084  0.0  0.747945  0.995060\n",
              "3  0.591577  0.625229  0.685603  0.672239  ...  0.233031  0.0  0.806040  0.999734\n",
              "4  0.591833  0.538230  0.670447  0.683321  ...  0.183556  0.0  0.807246  0.966600\n",
              "\n",
              "[5 rows x 16 columns]"
            ]
          },
          "metadata": {
            "tags": []
          },
          "execution_count": 14
        }
      ]
    },
    {
      "cell_type": "code",
      "metadata": {
        "id": "mRsdj6f9oMXi",
        "colab": {
          "base_uri": "https://localhost:8080/",
          "height": 34
        },
        "outputId": "3172ae60-2951-41f5-ce11-7d2880569657"
      },
      "source": [
        "y_train = pd.DataFrame(labels)\n",
        "print(y_train.shape)"
      ],
      "execution_count": null,
      "outputs": [
        {
          "output_type": "stream",
          "text": [
            "(16, 1)\n"
          ],
          "name": "stdout"
        }
      ]
    },
    {
      "cell_type": "code",
      "metadata": {
        "id": "3zNJa2aNo7Dj",
        "colab": {
          "base_uri": "https://localhost:8080/",
          "height": 195
        },
        "outputId": "d556fb69-26ea-401e-d86f-4b975418dff3"
      },
      "source": [
        "y_train.head()"
      ],
      "execution_count": null,
      "outputs": [
        {
          "output_type": "execute_result",
          "data": {
            "text/html": [
              "<div>\n",
              "<style scoped>\n",
              "    .dataframe tbody tr th:only-of-type {\n",
              "        vertical-align: middle;\n",
              "    }\n",
              "\n",
              "    .dataframe tbody tr th {\n",
              "        vertical-align: top;\n",
              "    }\n",
              "\n",
              "    .dataframe thead th {\n",
              "        text-align: right;\n",
              "    }\n",
              "</style>\n",
              "<table border=\"1\" class=\"dataframe\">\n",
              "  <thead>\n",
              "    <tr style=\"text-align: right;\">\n",
              "      <th></th>\n",
              "      <th>0</th>\n",
              "    </tr>\n",
              "  </thead>\n",
              "  <tbody>\n",
              "    <tr>\n",
              "      <th>0</th>\n",
              "      <td>feel</td>\n",
              "    </tr>\n",
              "    <tr>\n",
              "      <th>1</th>\n",
              "      <td>feel</td>\n",
              "    </tr>\n",
              "    <tr>\n",
              "      <th>2</th>\n",
              "      <td>feel</td>\n",
              "    </tr>\n",
              "    <tr>\n",
              "      <th>3</th>\n",
              "      <td>feel</td>\n",
              "    </tr>\n",
              "    <tr>\n",
              "      <th>4</th>\n",
              "      <td>A1</td>\n",
              "    </tr>\n",
              "  </tbody>\n",
              "</table>\n",
              "</div>"
            ],
            "text/plain": [
              "      0\n",
              "0  feel\n",
              "1  feel\n",
              "2  feel\n",
              "3  feel\n",
              "4    A1"
            ]
          },
          "metadata": {
            "tags": []
          },
          "execution_count": 16
        }
      ]
    },
    {
      "cell_type": "code",
      "metadata": {
        "id": "XIWRdCAurkyw"
      },
      "source": [
        "y_train = pd.get_dummies(y_train)"
      ],
      "execution_count": null,
      "outputs": []
    },
    {
      "cell_type": "code",
      "metadata": {
        "id": "iCDrEBqqrzmY",
        "colab": {
          "base_uri": "https://localhost:8080/",
          "height": 195
        },
        "outputId": "2e2a6e80-1771-4bb7-ac44-628ca5d105de"
      },
      "source": [
        "y_train.head()"
      ],
      "execution_count": null,
      "outputs": [
        {
          "output_type": "execute_result",
          "data": {
            "text/html": [
              "<div>\n",
              "<style scoped>\n",
              "    .dataframe tbody tr th:only-of-type {\n",
              "        vertical-align: middle;\n",
              "    }\n",
              "\n",
              "    .dataframe tbody tr th {\n",
              "        vertical-align: top;\n",
              "    }\n",
              "\n",
              "    .dataframe thead th {\n",
              "        text-align: right;\n",
              "    }\n",
              "</style>\n",
              "<table border=\"1\" class=\"dataframe\">\n",
              "  <thead>\n",
              "    <tr style=\"text-align: right;\">\n",
              "      <th></th>\n",
              "      <th>0_A1</th>\n",
              "      <th>0_feel</th>\n",
              "      <th>0_studio deen</th>\n",
              "      <th>0_toei</th>\n",
              "    </tr>\n",
              "  </thead>\n",
              "  <tbody>\n",
              "    <tr>\n",
              "      <th>0</th>\n",
              "      <td>0</td>\n",
              "      <td>1</td>\n",
              "      <td>0</td>\n",
              "      <td>0</td>\n",
              "    </tr>\n",
              "    <tr>\n",
              "      <th>1</th>\n",
              "      <td>0</td>\n",
              "      <td>1</td>\n",
              "      <td>0</td>\n",
              "      <td>0</td>\n",
              "    </tr>\n",
              "    <tr>\n",
              "      <th>2</th>\n",
              "      <td>0</td>\n",
              "      <td>1</td>\n",
              "      <td>0</td>\n",
              "      <td>0</td>\n",
              "    </tr>\n",
              "    <tr>\n",
              "      <th>3</th>\n",
              "      <td>0</td>\n",
              "      <td>1</td>\n",
              "      <td>0</td>\n",
              "      <td>0</td>\n",
              "    </tr>\n",
              "    <tr>\n",
              "      <th>4</th>\n",
              "      <td>1</td>\n",
              "      <td>0</td>\n",
              "      <td>0</td>\n",
              "      <td>0</td>\n",
              "    </tr>\n",
              "  </tbody>\n",
              "</table>\n",
              "</div>"
            ],
            "text/plain": [
              "   0_A1  0_feel  0_studio deen  0_toei\n",
              "0     0       1              0       0\n",
              "1     0       1              0       0\n",
              "2     0       1              0       0\n",
              "3     0       1              0       0\n",
              "4     1       0              0       0"
            ]
          },
          "metadata": {
            "tags": []
          },
          "execution_count": 11
        }
      ]
    },
    {
      "cell_type": "code",
      "metadata": {
        "id": "8E4LeT-OhE_1",
        "colab": {
          "base_uri": "https://localhost:8080/",
          "height": 34
        },
        "outputId": "54378021-1d6e-4dbc-a53c-8dde091778e5"
      },
      "source": [
        "y.shape"
      ],
      "execution_count": null,
      "outputs": [
        {
          "output_type": "execute_result",
          "data": {
            "text/plain": [
              "(16, 4)"
            ]
          },
          "metadata": {
            "tags": []
          },
          "execution_count": 28
        }
      ]
    },
    {
      "cell_type": "markdown",
      "metadata": {
        "id": "jyQEAnkiJ3SW"
      },
      "source": [
        "***Test data***"
      ]
    },
    {
      "cell_type": "code",
      "metadata": {
        "id": "B2QtnjzOH2iO",
        "colab": {
          "base_uri": "https://localhost:8080/",
          "height": 34
        },
        "outputId": "f835dcab-afa3-4131-dc45-4cd9e94c0c6a"
      },
      "source": [
        "fig = plt.figure(figsize=(8,6))\n",
        "test_df = {}\n",
        "studio = ['feel','A1','studio deen','toei','madhouse']\n",
        "count = 0\n",
        "labels_test = []\n",
        "for i in studio:\n",
        "  for j in range(1,3):\n",
        "    path2 = '/content/drive/My Drive/anime/test/'+i+'/t'+str(j)+'.png'\n",
        "    img = plt.imread(path2)  # reading image into variable named img\n",
        "    img_bw = rgb2gray(img)  #converting the rgb image to grayscale\n",
        "    test_df[count] = img_bw  #storing the grayscale image in a dictionary\n",
        "    labels_test.append(i) \n",
        "    count+=1"
      ],
      "execution_count": null,
      "outputs": [
        {
          "output_type": "display_data",
          "data": {
            "text/plain": [
              "<Figure size 576x432 with 0 Axes>"
            ]
          },
          "metadata": {
            "tags": []
          }
        }
      ]
    },
    {
      "cell_type": "code",
      "metadata": {
        "id": "XUSaR56Gvtu9",
        "colab": {
          "base_uri": "https://localhost:8080/",
          "height": 286
        },
        "outputId": "f2f57b4f-8931-440e-e83c-e4e421e33906"
      },
      "source": [
        "plt.imshow(test_df[1],cmap='gray')"
      ],
      "execution_count": null,
      "outputs": [
        {
          "output_type": "execute_result",
          "data": {
            "text/plain": [
              "<matplotlib.image.AxesImage at 0x7f131a121e10>"
            ]
          },
          "metadata": {
            "tags": []
          },
          "execution_count": 132
        },
        {
          "output_type": "display_data",
          "data": {
            "image/png": "[encoded data removed]",
            "text/plain": [
              "<Figure size 432x288 with 1 Axes>"
            ]
          },
          "metadata": {
            "tags": [],
            "needs_background": "light"
          }
        }
      ]
    },
    {
      "cell_type": "code",
      "metadata": {
        "id": "4ma4egJRKEjn"
      },
      "source": [
        "test_df"
      ],
      "execution_count": null,
      "outputs": []
    },
    {
      "cell_type": "code",
      "metadata": {
        "id": "mGg0qb3cvFLf",
        "colab": {
          "base_uri": "https://localhost:8080/",
          "height": 286
        },
        "outputId": "1d6940c4-37af-4756-e093-156d9e60d596"
      },
      "source": [
        "test = pd.DataFrame()\n",
        "\n",
        "for i in range(8):\n",
        "  size = resize(test_df[i],(64,64)) # resizing all the images to 130x100 \n",
        "  print(size.shape)\n",
        "  size = size.flatten() # converting the image from 2d to 1d\n",
        "  test[i] = size\n",
        "  print(size.shape)"
      ],
      "execution_count": null,
      "outputs": [
        {
          "output_type": "stream",
          "text": [
            "(64, 64)\n",
            "(4096,)\n",
            "(64, 64)\n",
            "(4096,)\n",
            "(64, 64)\n",
            "(4096,)\n",
            "(64, 64)\n",
            "(4096,)\n",
            "(64, 64)\n",
            "(4096,)\n",
            "(64, 64)\n",
            "(4096,)\n",
            "(64, 64)\n",
            "(4096,)\n",
            "(64, 64)\n",
            "(4096,)\n"
          ],
          "name": "stdout"
        }
      ]
    },
    {
      "cell_type": "code",
      "metadata": {
        "id": "1YUg0gC9wGme",
        "colab": {
          "base_uri": "https://localhost:8080/",
          "height": 34
        },
        "outputId": "e3b72c3b-fd37-42f3-de47-18e6a875cbe2"
      },
      "source": [
        "test.shape"
      ],
      "execution_count": null,
      "outputs": [
        {
          "output_type": "execute_result",
          "data": {
            "text/plain": [
              "(8, 4096)"
            ]
          },
          "metadata": {
            "tags": []
          },
          "execution_count": 76
        }
      ]
    },
    {
      "cell_type": "code",
      "metadata": {
        "id": "jJhQMW8EPqhB"
      },
      "source": [
        "y_test = pd.DataFrame(labels_test)\n",
        "y_test = pd.get_dummies(y_test)"
      ],
      "execution_count": null,
      "outputs": []
    },
    {
      "cell_type": "code",
      "metadata": {
        "id": "n8SG0Q4FP9ac",
        "colab": {
          "base_uri": "https://localhost:8080/",
          "height": 284
        },
        "outputId": "9e986b84-7ebc-4144-e1e4-70198ba7689c"
      },
      "source": [
        "y_test"
      ],
      "execution_count": null,
      "outputs": [
        {
          "output_type": "execute_result",
          "data": {
            "text/html": [
              "<div>\n",
              "<style scoped>\n",
              "    .dataframe tbody tr th:only-of-type {\n",
              "        vertical-align: middle;\n",
              "    }\n",
              "\n",
              "    .dataframe tbody tr th {\n",
              "        vertical-align: top;\n",
              "    }\n",
              "\n",
              "    .dataframe thead th {\n",
              "        text-align: right;\n",
              "    }\n",
              "</style>\n",
              "<table border=\"1\" class=\"dataframe\">\n",
              "  <thead>\n",
              "    <tr style=\"text-align: right;\">\n",
              "      <th></th>\n",
              "      <th>0_A1</th>\n",
              "      <th>0_feel</th>\n",
              "      <th>0_studio deen</th>\n",
              "      <th>0_toei</th>\n",
              "    </tr>\n",
              "  </thead>\n",
              "  <tbody>\n",
              "    <tr>\n",
              "      <th>0</th>\n",
              "      <td>0</td>\n",
              "      <td>1</td>\n",
              "      <td>0</td>\n",
              "      <td>0</td>\n",
              "    </tr>\n",
              "    <tr>\n",
              "      <th>1</th>\n",
              "      <td>0</td>\n",
              "      <td>1</td>\n",
              "      <td>0</td>\n",
              "      <td>0</td>\n",
              "    </tr>\n",
              "    <tr>\n",
              "      <th>2</th>\n",
              "      <td>1</td>\n",
              "      <td>0</td>\n",
              "      <td>0</td>\n",
              "      <td>0</td>\n",
              "    </tr>\n",
              "    <tr>\n",
              "      <th>3</th>\n",
              "      <td>1</td>\n",
              "      <td>0</td>\n",
              "      <td>0</td>\n",
              "      <td>0</td>\n",
              "    </tr>\n",
              "    <tr>\n",
              "      <th>4</th>\n",
              "      <td>0</td>\n",
              "      <td>0</td>\n",
              "      <td>1</td>\n",
              "      <td>0</td>\n",
              "    </tr>\n",
              "    <tr>\n",
              "      <th>5</th>\n",
              "      <td>0</td>\n",
              "      <td>0</td>\n",
              "      <td>1</td>\n",
              "      <td>0</td>\n",
              "    </tr>\n",
              "    <tr>\n",
              "      <th>6</th>\n",
              "      <td>0</td>\n",
              "      <td>0</td>\n",
              "      <td>0</td>\n",
              "      <td>1</td>\n",
              "    </tr>\n",
              "    <tr>\n",
              "      <th>7</th>\n",
              "      <td>0</td>\n",
              "      <td>0</td>\n",
              "      <td>0</td>\n",
              "      <td>1</td>\n",
              "    </tr>\n",
              "  </tbody>\n",
              "</table>\n",
              "</div>"
            ],
            "text/plain": [
              "   0_A1  0_feel  0_studio deen  0_toei\n",
              "0     0       1              0       0\n",
              "1     0       1              0       0\n",
              "2     1       0              0       0\n",
              "3     1       0              0       0\n",
              "4     0       0              1       0\n",
              "5     0       0              1       0\n",
              "6     0       0              0       1\n",
              "7     0       0              0       1"
            ]
          },
          "metadata": {
            "tags": []
          },
          "execution_count": 77
        }
      ]
    },
    {
      "cell_type": "markdown",
      "metadata": {
        "id": "Scth3pfQ-CrW"
      },
      "source": [
        "***Image data generator***"
      ]
    },
    {
      "cell_type": "code",
      "metadata": {
        "id": "AO88gUTY-CNK"
      },
      "source": [
        "train_datagen = ImageDataGenerator(\n",
        "        rescale=1./255,\n",
        "        width_shift_range=0.1, # horizontal shift\n",
        "        height_shift_range=0.1, # vertical shift\n",
        "        zoom_range=0.1, # zoom\n",
        "        brightness_range=[0.2,1.2],\n",
        "        shear_range=0.1,\n",
        "        rotation_range=25,\n",
        "        horizontal_flip=True)\n",
        "\n",
        "test_datagen = ImageDataGenerator(\n",
        "        rescale=1./255,)"
      ],
      "execution_count": null,
      "outputs": []
    },
    {
      "cell_type": "code",
      "metadata": {
        "id": "d1Y168dQm_jn"
      },
      "source": [
        "train_datagen = ImageDataGenerator(\n",
        "        rescale=1./255,\n",
        "        rotation_range=20,\n",
        "        horizontal_flip=True)\n",
        "\n",
        "test_datagen = ImageDataGenerator(\n",
        "        rescale=1./255,\n",
        "        )"
      ],
      "execution_count": null,
      "outputs": []
    },
    {
      "cell_type": "code",
      "metadata": {
        "id": "xF7gIQAvLAtd",
        "colab": {
          "base_uri": "https://localhost:8080/"
        },
        "outputId": "3a3389bf-9333-4da1-bf4c-556d5c889af3"
      },
      "source": [
        "train_generator = train_datagen.flow_from_directory(\n",
        "        '/content/drive/My Drive/anime/train/',  # this is the target directory\n",
        "        target_size=(125,125),  # all images will be resized to 64x64\n",
        "        batch_size=8,\n",
        "        #color_mode='grayscale',\n",
        "        class_mode='categorical',seed=8)#,save_to_dir='/content/drive/My Drive/anime/augmented')"
      ],
      "execution_count": null,
      "outputs": [
        {
          "output_type": "stream",
          "text": [
            "Found 40 images belonging to 5 classes.\n"
          ],
          "name": "stdout"
        }
      ]
    },
    {
      "cell_type": "code",
      "metadata": {
        "id": "5Iryrg7TFdQk",
        "colab": {
          "base_uri": "https://localhost:8080/"
        },
        "outputId": "b6ff19de-a524-4a32-fe05-ad9c5d08b3b6"
      },
      "source": [
        "test_generator = test_datagen.flow_from_directory(\n",
        "        '/content/drive/My Drive/anime/test/',  # this is the target directory\n",
        "        target_size=(125,125),  # all images will be resized to 64x64\n",
        "        batch_size=1,\n",
        "        #color_mode='grayscale',\n",
        "        class_mode='categorical',seed=8)"
      ],
      "execution_count": null,
      "outputs": [
        {
          "output_type": "stream",
          "text": [
            "Found 10 images belonging to 5 classes.\n"
          ],
          "name": "stdout"
        }
      ]
    },
    {
      "cell_type": "code",
      "metadata": {
        "id": "6yT_-qw-Buu7"
      },
      "source": [
        "i = 0\n",
        "for batch in train_generator:\n",
        "    i += 1\n",
        "    if i > 40: # save 20 images\n",
        "        break"
      ],
      "execution_count": null,
      "outputs": []
    },
    {
      "cell_type": "markdown",
      "metadata": {
        "id": "0IalI9X8JVkf"
      },
      "source": [
        "***Calculating step size for train and test***"
      ]
    },
    {
      "cell_type": "code",
      "metadata": {
        "id": "dZYRZ4R76bX3"
      },
      "source": [
        "STEP_SIZE_TRAIN=train_generator.n//train_generator.batch_size"
      ],
      "execution_count": null,
      "outputs": []
    },
    {
      "cell_type": "code",
      "metadata": {
        "id": "CZZtsEQtMNyp"
      },
      "source": [
        "STEP_SIZE_TEST=test_generator.n//test_generator.batch_size"
      ],
      "execution_count": null,
      "outputs": []
    },
    {
      "cell_type": "code",
      "metadata": {
        "id": "GTi4IVjNDED4",
        "colab": {
          "base_uri": "https://localhost:8080/"
        },
        "outputId": "8572abd6-c1b4-4ff4-927b-9352ac17b88b"
      },
      "source": [
        "print(STEP_SIZE_TRAIN,STEP_SIZE_TEST)"
      ],
      "execution_count": null,
      "outputs": [
        {
          "output_type": "stream",
          "text": [
            "5 10\n"
          ],
          "name": "stdout"
        }
      ]
    },
    {
      "cell_type": "markdown",
      "metadata": {
        "id": "dPC3XUt58DgB"
      },
      "source": [
        "***creating model for imagedatagen***"
      ]
    },
    {
      "cell_type": "code",
      "metadata": {
        "id": "R4B9Fzqv8lMW"
      },
      "source": [
        "from keras.models import Sequential\n",
        "from keras.layers import Conv2D, MaxPooling2D\n",
        "from keras.layers import Activation, Dropout, Flatten, Dense,BatchNormalization\n"
      ],
      "execution_count": null,
      "outputs": []
    },
    {
      "cell_type": "code",
      "metadata": {
        "id": "9opr_HsyeNbD"
      },
      "source": [
        "early = EarlyStopping(monitor = 'accuracy',min_delta = 0,patience = 5, verbose = 1,restore_best_weights = True)\n",
        "#check = ModelCheckpoint(filepath,monitor='loss',mode='min',save_best_only=True,verbose=1)"
      ],
      "execution_count": null,
      "outputs": []
    },
    {
      "cell_type": "code",
      "metadata": {
        "id": "MXpYb1wd8CSg"
      },
      "source": [
        "model2 = Sequential()\n",
        "\n",
        "model2.add(Conv2D(16, (3, 3),activation='relu', input_shape=(125,125,3)))\n",
        "#model2.add(MaxPooling2D(pool_size=(2, 2)))\n",
        "model2.add(Conv2D(32, (3, 3),activation='relu',padding='same'))\n",
        "#model2.add(MaxPooling2D(pool_size=(2, 2)))\n",
        "model2.add(Conv2D(64, (3, 3),activation='relu',padding='same'))\n",
        "#model2.add(BatchNormalization())\n",
        "\n",
        "#model2.add(MaxPooling2D(pool_size=(2, 2)))"
      ],
      "execution_count": null,
      "outputs": []
    },
    {
      "cell_type": "code",
      "metadata": {
        "id": "AB-vOsCuFkqP"
      },
      "source": [
        "model2 = Sequential()\n",
        "\n",
        "model2.add(Conv2D(32, (3, 3),activation='relu', input_shape=(32,32,3)))\n",
        "model2.add(MaxPooling2D(pool_size=(2, 2)))\n",
        "model2.add(BatchNormalization())\n",
        "model2.add(Conv2D(64, (3, 3),activation='relu'))\n",
        "model2.add(MaxPooling2D(pool_size=(2, 2)))\n",
        "model2.add(BatchNormalization())\n"
      ],
      "execution_count": null,
      "outputs": []
    },
    {
      "cell_type": "code",
      "metadata": {
        "id": "VDAIyJxdEbEc"
      },
      "source": [
        "model2.add(Flatten())  # this converts our 3D feature maps to 1D feature vectors\n",
        "model2.add((Dense(200,activation='relu')))\n",
        "model2.add(Dropout(0.5))\n",
        "model2.add((Dense(200,activation='relu')))\n",
        "model2.add(Dropout(0.5)) # add padding\n",
        "model2.add(Dense(5,activation='softmax'))"
      ],
      "execution_count": null,
      "outputs": []
    },
    {
      "cell_type": "code",
      "metadata": {
        "id": "dirj4X4lD9zt"
      },
      "source": [
        "model2.compile(optimizer='adam',loss='categorical_crossentropy',metrics=['accuracy'])"
      ],
      "execution_count": null,
      "outputs": []
    },
    {
      "cell_type": "code",
      "metadata": {
        "id": "YBR3SA0EX3wh",
        "colab": {
          "base_uri": "https://localhost:8080/"
        },
        "outputId": "b439f93a-051f-4d95-ee4f-d1cc103e76b6"
      },
      "source": [
        "model2.fit(\n",
        "        train_generator,\n",
        "        steps_per_epoch=STEP_SIZE_TRAIN,\n",
        "        epochs=40)#,callbacks=[early])\n",
        "        #validation_data=validation_generator,\n",
        "        #validation_steps=800 // batch_size)"
      ],
      "execution_count": null,
      "outputs": [
        {
          "output_type": "stream",
          "text": [
            "Epoch 1/40\n",
            "2/5 [===========>..................] - ETA: 0s - loss: 25.9263 - accuracy: 0.1875WARNING:tensorflow:Callbacks method `on_train_batch_end` is slow compared to the batch time (batch time: 0.0114s vs `on_train_batch_end` time: 0.0505s). Check your callbacks.\n",
            "5/5 [==============================] - 0s 67ms/step - loss: 34.4327 - accuracy: 0.3000\n",
            "Epoch 2/40\n",
            "5/5 [==============================] - 0s 81ms/step - loss: 13.4076 - accuracy: 0.2750\n",
            "Epoch 3/40\n",
            "5/5 [==============================] - 0s 80ms/step - loss: 1.7744 - accuracy: 0.2250\n",
            "Epoch 4/40\n",
            "5/5 [==============================] - 0s 79ms/step - loss: 1.7590 - accuracy: 0.2250\n",
            "Epoch 5/40\n",
            "5/5 [==============================] - 0s 81ms/step - loss: 1.5451 - accuracy: 0.2750\n",
            "Epoch 6/40\n",
            "5/5 [==============================] - 0s 79ms/step - loss: 1.4710 - accuracy: 0.2000\n",
            "Epoch 7/40\n",
            "5/5 [==============================] - 0s 81ms/step - loss: 1.5229 - accuracy: 0.4000\n",
            "Epoch 8/40\n",
            "5/5 [==============================] - 0s 81ms/step - loss: 1.3628 - accuracy: 0.4500\n",
            "Epoch 9/40\n",
            "5/5 [==============================] - 0s 84ms/step - loss: 1.4705 - accuracy: 0.4250\n",
            "Epoch 10/40\n",
            "5/5 [==============================] - 0s 78ms/step - loss: 1.4029 - accuracy: 0.4500\n",
            "Epoch 11/40\n",
            "5/5 [==============================] - 0s 82ms/step - loss: 1.3928 - accuracy: 0.4000\n",
            "Epoch 12/40\n",
            "5/5 [==============================] - 0s 76ms/step - loss: 1.3351 - accuracy: 0.4250\n",
            "Epoch 13/40\n",
            "5/5 [==============================] - 0s 80ms/step - loss: 1.3485 - accuracy: 0.3250\n",
            "Epoch 14/40\n",
            "5/5 [==============================] - 0s 81ms/step - loss: 1.3493 - accuracy: 0.5000\n",
            "Epoch 15/40\n",
            "5/5 [==============================] - 0s 82ms/step - loss: 1.1371 - accuracy: 0.5500\n",
            "Epoch 16/40\n",
            "5/5 [==============================] - 0s 81ms/step - loss: 1.5072 - accuracy: 0.4000\n",
            "Epoch 17/40\n",
            "5/5 [==============================] - 0s 86ms/step - loss: 1.2171 - accuracy: 0.5000\n",
            "Epoch 18/40\n",
            "5/5 [==============================] - 0s 85ms/step - loss: 1.1477 - accuracy: 0.5000\n",
            "Epoch 19/40\n",
            "5/5 [==============================] - 0s 73ms/step - loss: 1.1527 - accuracy: 0.4750\n",
            "Epoch 20/40\n",
            "5/5 [==============================] - 0s 80ms/step - loss: 1.0581 - accuracy: 0.6000\n",
            "Epoch 21/40\n",
            "5/5 [==============================] - 0s 85ms/step - loss: 1.0722 - accuracy: 0.5500\n",
            "Epoch 22/40\n",
            "5/5 [==============================] - 0s 82ms/step - loss: 1.2976 - accuracy: 0.4750\n",
            "Epoch 23/40\n",
            "5/5 [==============================] - 0s 83ms/step - loss: 1.0364 - accuracy: 0.6250\n",
            "Epoch 24/40\n",
            "5/5 [==============================] - 0s 84ms/step - loss: 0.9920 - accuracy: 0.5500\n",
            "Epoch 25/40\n",
            "5/5 [==============================] - 0s 84ms/step - loss: 0.9878 - accuracy: 0.6000\n",
            "Epoch 26/40\n",
            "5/5 [==============================] - 0s 81ms/step - loss: 0.8943 - accuracy: 0.6000\n",
            "Epoch 27/40\n",
            "5/5 [==============================] - 0s 83ms/step - loss: 0.9827 - accuracy: 0.6250\n",
            "Epoch 28/40\n",
            "5/5 [==============================] - 0s 81ms/step - loss: 0.5661 - accuracy: 0.8250\n",
            "Epoch 29/40\n",
            "5/5 [==============================] - 0s 85ms/step - loss: 0.5631 - accuracy: 0.7500\n",
            "Epoch 30/40\n",
            "5/5 [==============================] - 0s 88ms/step - loss: 0.7464 - accuracy: 0.7500\n",
            "Epoch 31/40\n",
            "5/5 [==============================] - 0s 83ms/step - loss: 0.6712 - accuracy: 0.8250\n",
            "Epoch 32/40\n",
            "5/5 [==============================] - 0s 80ms/step - loss: 0.6444 - accuracy: 0.7750\n",
            "Epoch 33/40\n",
            "5/5 [==============================] - 0s 88ms/step - loss: 0.5952 - accuracy: 0.8250\n",
            "Epoch 34/40\n",
            "5/5 [==============================] - 0s 74ms/step - loss: 0.5429 - accuracy: 0.8500\n",
            "Epoch 35/40\n",
            "5/5 [==============================] - 0s 85ms/step - loss: 0.5955 - accuracy: 0.8500\n",
            "Epoch 36/40\n",
            "5/5 [==============================] - 0s 85ms/step - loss: 0.8118 - accuracy: 0.6500\n",
            "Epoch 37/40\n",
            "5/5 [==============================] - 0s 83ms/step - loss: 0.6165 - accuracy: 0.7500\n",
            "Epoch 38/40\n",
            "5/5 [==============================] - 0s 81ms/step - loss: 0.4540 - accuracy: 0.8000\n",
            "Epoch 39/40\n",
            "5/5 [==============================] - 0s 79ms/step - loss: 0.7209 - accuracy: 0.7250\n",
            "Epoch 40/40\n",
            "5/5 [==============================] - 0s 73ms/step - loss: 0.4695 - accuracy: 0.8250\n"
          ],
          "name": "stdout"
        },
        {
          "output_type": "execute_result",
          "data": {
            "text/plain": [
              "<tensorflow.python.keras.callbacks.History at 0x7f531a5f72b0>"
            ]
          },
          "metadata": {
            "tags": []
          },
          "execution_count": 32
        }
      ]
    },
    {
      "cell_type": "code",
      "metadata": {
        "id": "9uysKwTgFSlm",
        "colab": {
          "base_uri": "https://localhost:8080/"
        },
        "outputId": "7f099251-df74-4f22-f9a2-a600411b1ca2"
      },
      "source": [
        "model2.evaluate(test_generator,steps=STEP_SIZE_TEST)"
      ],
      "execution_count": null,
      "outputs": [
        {
          "output_type": "stream",
          "text": [
            "10/10 [==============================] - 0s 13ms/step - loss: 1.7559 - accuracy: 0.5000\n"
          ],
          "name": "stdout"
        },
        {
          "output_type": "execute_result",
          "data": {
            "text/plain": [
              "[1.755859375, 0.5]"
            ]
          },
          "metadata": {
            "tags": []
          },
          "execution_count": 33
        }
      ]
    },
    {
      "cell_type": "markdown",
      "metadata": {
        "id": "YhNWH3fJNA6D"
      },
      "source": [
        "**Converting prediction to studio labels**"
      ]
    },
    {
      "cell_type": "code",
      "metadata": {
        "id": "43EjnU95aWtZ",
        "colab": {
          "base_uri": "https://localhost:8080/",
          "height": 34
        },
        "outputId": "fbd8fd86-9546-49f2-cb07-c2cc0988f11d"
      },
      "source": [
        "test_generator.class_indices"
      ],
      "execution_count": null,
      "outputs": [
        {
          "output_type": "execute_result",
          "data": {
            "text/plain": [
              "{'A1': 0, 'feel': 1, 'madhouse': 2, 'studio deen': 3, 'toei': 4}"
            ]
          },
          "metadata": {
            "tags": []
          },
          "execution_count": 22
        }
      ]
    },
    {
      "cell_type": "code",
      "metadata": {
        "id": "JI781_-hgL-H"
      },
      "source": [
        "class_df = test_generator.class_indices"
      ],
      "execution_count": null,
      "outputs": []
    },
    {
      "cell_type": "code",
      "metadata": {
        "id": "_Wr0f8QBaoA6"
      },
      "source": [
        "pred = model2.predict(test_generator)"
      ],
      "execution_count": null,
      "outputs": []
    },
    {
      "cell_type": "code",
      "metadata": {
        "id": "Z5hT90yQat4F"
      },
      "source": [
        "pred"
      ],
      "execution_count": null,
      "outputs": []
    },
    {
      "cell_type": "code",
      "metadata": {
        "id": "mGwzAfA1bMIK"
      },
      "source": [
        "plt.imshow(test_df[1],cmap='gray')"
      ],
      "execution_count": null,
      "outputs": []
    },
    {
      "cell_type": "code",
      "metadata": {
        "id": "wvD1oXkjLoGB"
      },
      "source": [
        "def predict_studio(pred):\n",
        "  pred_df = pd.DataFrame(pred)\n",
        "  max = []\n",
        "  pred_class = []\n",
        "  for lab,row in pred_df.iterrows():\n",
        "    max.append(row.idxmax())\n",
        "    \n",
        "  for i in max:\n",
        "    for key,val in class_df.items():\n",
        "      if i == val:\n",
        "        pred_class.append(key)\n",
        "  print(pred_class)"
      ],
      "execution_count": null,
      "outputs": []
    },
    {
      "cell_type": "code",
      "metadata": {
        "id": "ODe95q3RaOA-",
        "colab": {
          "base_uri": "https://localhost:8080/",
          "height": 34
        },
        "outputId": "5c09ffef-cfce-4c4e-a913-9611ad8400f2"
      },
      "source": [
        "predict_studio(pred)"
      ],
      "execution_count": null,
      "outputs": [
        {
          "output_type": "stream",
          "text": [
            "['toei', 'studio deen', 'madhouse', 'feel', 'studio deen', 'A1', 'A1', 'feel', 'A1', 'toei']\n"
          ],
          "name": "stdout"
        }
      ]
    },
    {
      "cell_type": "markdown",
      "metadata": {
        "id": "vXxzncjqaGkf"
      },
      "source": [
        "**Predicting studio based on users input**"
      ]
    },
    {
      "cell_type": "code",
      "metadata": {
        "id": "s0h7uIqpGkC8",
        "cellView": "both"
      },
      "source": [
        "import requests\n",
        "from io import BytesIO"
      ],
      "execution_count": null,
      "outputs": []
    },
    {
      "cell_type": "code",
      "metadata": {
        "id": "cnv-w6IhyTUK",
        "colab": {
          "base_uri": "https://localhost:8080/",
          "height": 319
        },
        "outputId": "282aea61-5145-40d8-eb94-acff061d76e1"
      },
      "source": [
        "url = input('enter image path:\\n')\n",
        "response = requests.get(url)\n",
        "img = plt.imread(BytesIO(response2.content),0)\n",
        "plt.imshow(img)"
      ],
      "execution_count": null,
      "outputs": [
        {
          "output_type": "stream",
          "text": [
            "enter image path:\n",
            "https://i.pinimg.com/564x/c9/58/8e/c9588e1c482c4ddcf43f97deaa4d8245.jpg\n"
          ],
          "name": "stdout"
        },
        {
          "output_type": "execute_result",
          "data": {
            "text/plain": [
              "<matplotlib.image.AxesImage at 0x7f13d05870b8>"
            ]
          },
          "metadata": {
            "tags": []
          },
          "execution_count": 28
        },
        {
          "output_type": "display_data",
          "data": {
            "image/png": "[encoded data removed]",
            "text/plain": [
              "<Figure size 432x288 with 1 Axes>"
            ]
          },
          "metadata": {
            "tags": [],
            "needs_background": "light"
          }
        }
      ]
    },
    {
      "cell_type": "code",
      "metadata": {
        "id": "N2eOmCMEKGiw",
        "cellView": "both"
      },
      "source": [
        "img1 = resize(img,(1,64,64,3))"
      ],
      "execution_count": null,
      "outputs": []
    },
    {
      "cell_type": "code",
      "metadata": {
        "id": "YsMxeBDRKao4",
        "cellView": "both",
        "colab": {
          "base_uri": "https://localhost:8080/",
          "height": 34
        },
        "outputId": "d81a8308-35d3-42ce-9dea-5fc24e0a1498"
      },
      "source": [
        "img1.shape"
      ],
      "execution_count": null,
      "outputs": [
        {
          "output_type": "execute_result",
          "data": {
            "text/plain": [
              "(1, 64, 64, 3)"
            ]
          },
          "metadata": {
            "tags": []
          },
          "execution_count": 469
        }
      ]
    },
    {
      "cell_type": "code",
      "metadata": {
        "id": "18JTAiyVHkuo",
        "cellView": "both"
      },
      "source": [
        "pred_user = model2.predict(img1)"
      ],
      "execution_count": null,
      "outputs": []
    },
    {
      "cell_type": "code",
      "metadata": {
        "id": "rFznh6pgOlkH",
        "cellView": "both",
        "colab": {
          "base_uri": "https://localhost:8080/",
          "height": 50
        },
        "outputId": "c1172f74-8b14-4781-ca16-873e26ccdc27"
      },
      "source": [
        "pred_user"
      ],
      "execution_count": null,
      "outputs": [
        {
          "output_type": "execute_result",
          "data": {
            "text/plain": [
              "array([[0.07718007, 0.14746208, 0.13910663, 0.5504022 , 0.08584899]],\n",
              "      dtype=float32)"
            ]
          },
          "metadata": {
            "tags": []
          },
          "execution_count": 120
        }
      ]
    },
    {
      "cell_type": "code",
      "metadata": {
        "id": "FbXyiFz2MR-5",
        "cellView": "both",
        "colab": {
          "base_uri": "https://localhost:8080/",
          "height": 34
        },
        "outputId": "7ed63b73-24c1-43df-ecee-f77d6ddda682"
      },
      "source": [
        "predict_studio(pred_user)"
      ],
      "execution_count": null,
      "outputs": [
        {
          "output_type": "stream",
          "text": [
            "['studio deen']\n"
          ],
          "name": "stdout"
        }
      ]
    }
  ]
}